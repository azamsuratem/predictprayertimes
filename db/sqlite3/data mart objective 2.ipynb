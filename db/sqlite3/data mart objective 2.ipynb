{
 "cells": [
  {
   "cell_type": "code",
   "execution_count": 1,
   "metadata": {},
   "outputs": [],
   "source": [
    "import sqlite3"
   ]
  },
  {
   "cell_type": "code",
   "execution_count": 2,
   "metadata": {},
   "outputs": [],
   "source": [
    "conn = sqlite3.connect(\"prayertimesDM2.db\")\n",
    "cur = conn.cursor()"
   ]
  },
  {
   "cell_type": "code",
   "execution_count": 3,
   "metadata": {},
   "outputs": [],
   "source": [
    "def execute_query(sqlCmd):\n",
    "\tif (isinstance(sqlCmd, str)):\n",
    "\t\tcur.executescript(sqlCmd)\n",
    "\t\tconn.commit()\n",
    "\n",
    "def get_data(sqlCmd):\n",
    "\tif(isinstance(sqlCmd, str)):\n",
    "\t\tcur.executescript(sqlCmd)\n",
    "\t\tconn.commit()\n",
    "\t\treturn cur.fetchall()\n",
    "\t\n",
    "def close_connection():\n",
    "\tcur.close()\n",
    "\tconn.close()"
   ]
  },
  {
   "cell_type": "code",
   "execution_count": 4,
   "metadata": {},
   "outputs": [],
   "source": [
    "cmdStr = \"\"\"\n",
    "\tDROP TABLE IF EXISTS dim_time_stamp;\n",
    "\tCREATE TABLE dim_time_stamp\n",
    "\t(\n",
    "\t\ttime_id INTEGER PRIMARY KEY ASC,\n",
    "\t\ttime_date DATE NOT NULL\n",
    "\t);\n",
    "\n",
    "\tDROP TABLE IF EXISTS dim_prayer_times_actual;\n",
    "\tCREATE TABLE dim_prayer_times_esolat\n",
    "\t(\n",
    "\t\ttime_id INTEGER PRIMARY KEY,\n",
    "\t\tint_fajr INTEGER NOT NULL,\n",
    "\t\tint_zuhr INTEGER NOT NULL,\n",
    "\t\tint_asr INTEGER NOT NULL,\n",
    "\t\tint_maghrib INTEGER NOT NULL,\n",
    "\t\tint_isha INTEGER NOT NULL\n",
    "\t);\n",
    "\n",
    "\tDROP TABLE IF EXISTS dim_prayer_times_predicted;\n",
    "\tCREATE TABLE dim_prayer_times_predicted\n",
    "\t(\n",
    "\t\ttime_id INTEGER PRIMARY KEY,\n",
    "\t\tint_fajr INTEGER NOT NULL,\n",
    "\t\tint_zuhr INTEGER NOT NULL,\n",
    "\t\tint_asr INTEGER NOT NULL,\n",
    "\t\tint_maghrib INTEGER NOT NULL,\n",
    "\t\tint_isha INTEGER NOT NULL\n",
    "\t);\n",
    "\n",
    "\tDROP TABLE IF EXISTS fact_prayer_times_prediction;\n",
    "\tCREATE TABLE fact_prayer_times_prediction\n",
    "\t(\n",
    "\t\ttime_id INTEGER PRIMARY KEY,\n",
    "\t\tactual_fajr TIME,\n",
    "\t\tactual_zuhr TIME,\n",
    "\t\tactual_asr TIME,\n",
    "\t\tactual_maghrib TIME,\n",
    "\t\tactual_isha TIME,\n",
    "\t\tpredicted_fajr TIME,\n",
    "\t\tpredicted_zuhr TIME,\n",
    "\t\tpredicted_asr TIME,\n",
    "\t\tpredicted_maghrib TIME,\n",
    "\t\tpredicted_isha TIME,\n",
    "\t\tdiff_fajr INTEGER,\n",
    "\t\tdiff_zuhr INTEGER,\n",
    "\t\tdiff_asr INTEGER,\n",
    "\t\tdiff_maghrib INTEGER,\n",
    "\t\tdiff_isha INTEGER,\n",
    "\t\tFOREIGN KEY (time_id) REFERENCES dim_time_stamp (time_id)\n",
    "\t);\n",
    "\"\"\""
   ]
  },
  {
   "cell_type": "code",
   "execution_count": 5,
   "metadata": {},
   "outputs": [],
   "source": [
    "execute_query(cmdStr)"
   ]
  },
  {
   "cell_type": "code",
   "execution_count": 6,
   "metadata": {},
   "outputs": [],
   "source": [
    "# Don't forget to close connection!\n",
    "close_connection()"
   ]
  }
 ],
 "metadata": {
  "kernelspec": {
   "display_name": "Python 3",
   "language": "python",
   "name": "python3"
  },
  "language_info": {
   "codemirror_mode": {
    "name": "ipython",
    "version": 3
   },
   "file_extension": ".py",
   "mimetype": "text/x-python",
   "name": "python",
   "nbconvert_exporter": "python",
   "pygments_lexer": "ipython3",
   "version": "3.13.0"
  }
 },
 "nbformat": 4,
 "nbformat_minor": 2
}
