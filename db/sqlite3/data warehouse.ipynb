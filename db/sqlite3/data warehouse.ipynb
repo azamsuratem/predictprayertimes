{
 "cells": [
  {
   "cell_type": "code",
   "execution_count": 1,
   "metadata": {},
   "outputs": [],
   "source": [
    "import sqlite3"
   ]
  },
  {
   "cell_type": "code",
   "execution_count": 2,
   "metadata": {},
   "outputs": [],
   "source": [
    "conn = sqlite3.connect(\"prayertimesDW.db\")\n",
    "cur = conn.cursor()"
   ]
  },
  {
   "cell_type": "code",
   "execution_count": 3,
   "metadata": {},
   "outputs": [],
   "source": [
    "def execute_query(sqlCmd):\n",
    "\tif (isinstance(sqlCmd, str)):\n",
    "\t\tcur.executescript(sqlCmd)\n",
    "\t\tconn.commit()\n",
    "\n",
    "def get_data(sqlCmd):\n",
    "\tif(isinstance(sqlCmd, str)):\n",
    "\t\tcur.executescript(sqlCmd)\n",
    "\t\tconn.commit()\n",
    "\t\treturn cur.fetchall()\n",
    "\t\n",
    "def close_connection():\n",
    "\tcur.close()\n",
    "\tconn.close()"
   ]
  },
  {
   "cell_type": "code",
   "execution_count": null,
   "metadata": {},
   "outputs": [],
   "source": [
    "cmdStr = \"\"\"\n",
    "\tDROP TABLE IF EXISTS t_time_stamp;\n",
    "\tCREATE TABLE t_time_stamp\n",
    "\t(\n",
    "\t\ttime_id INTEGER PRIMARY KEY ASC,\n",
    "\t\ttime_date DATE NOT NULL\n",
    "\t);\n",
    "\n",
    "\tDROP TABLE IF EXISTS t_prayer_times_esolat;\n",
    "\tCREATE TABLE t_prayer_times_esolat\n",
    "\t(\n",
    "\t\ttime_date DATE NOT NULL,\n",
    "\t\ttime_fajr TIMESTAMP NOT NULL,\n",
    "\t\ttime_zuhr TIMESTAMP NOT NULL,\n",
    "\t\ttime_asr TIMESTAMP NOT NULL,\n",
    "\t\ttime_maghrib TIMESTAMP NOT NULL,\n",
    "\t\ttime_isha TIMESTAMP NOT NULL\n",
    "\t);\n",
    "\n",
    "\tDROP TABLE IF EXISTS t_prayer_times_google;\n",
    "\tCREATE TABLE t_prayer_times_google\n",
    "\t(\n",
    "\t\ttime_date DATE NOT NULL,\n",
    "\t\ttime_fajr TIMESTAMP NOT NULL,\n",
    "\t\ttime_zuhr TIMESTAMP NOT NULL,\n",
    "\t\ttime_asr TIMESTAMP NOT NULL,\n",
    "\t\ttime_maghrib TIMESTAMP NOT NULL,\n",
    "\t\ttime_isha TIMESTAMP NOT NULL\n",
    "\t);\n",
    "\n",
    "\tDROP TABLE IF EXISTS t_data_warehouse;\n",
    "\tCREATE TABLE t_data_warehouse\n",
    "\t(\n",
    "\t\ttime_id INTEGER PRIMARY KEY,\n",
    "\t\ttime_date DATE NOT NULL,\n",
    "\t\ttime_fajr_esolat TIMESTAMP,\n",
    "\t\ttime_zuhr_esolat TIMESTAMP,\n",
    "\t\ttime_asr_esolat TIMESTAMP,\n",
    "\t\ttime_maghrib_esolat TIMESTAMP,\n",
    "\t\ttime_isha_esolat TIMESTAMP,\n",
    "\t\ttime_fajr_google TIMESTAMP,\n",
    "\t\ttime_zuhr_google TIMESTAMP,\n",
    "\t\ttime_asr_google TIMESTAMP,\n",
    "\t\ttime_maghrib_google TIMESTAMP,\n",
    "\t\ttime_isha_google TIMESTAMP,\n",
    "\t\tFOREIGN KEY (time_id) REFERENCES t_time_stamp (time_id)\n",
    "\t);\n",
    "\"\"\""
   ]
  },
  {
   "cell_type": "code",
   "execution_count": 5,
   "metadata": {},
   "outputs": [],
   "source": [
    "execute_query(cmdStr)"
   ]
  },
  {
   "cell_type": "code",
   "execution_count": 6,
   "metadata": {},
   "outputs": [],
   "source": [
    "# Don't forget to close connection!\n",
    "close_connection()"
   ]
  }
 ],
 "metadata": {
  "kernelspec": {
   "display_name": "Python 3",
   "language": "python",
   "name": "python3"
  },
  "language_info": {
   "codemirror_mode": {
    "name": "ipython",
    "version": 3
   },
   "file_extension": ".py",
   "mimetype": "text/x-python",
   "name": "python",
   "nbconvert_exporter": "python",
   "pygments_lexer": "ipython3",
   "version": "3.13.0"
  }
 },
 "nbformat": 4,
 "nbformat_minor": 2
}
