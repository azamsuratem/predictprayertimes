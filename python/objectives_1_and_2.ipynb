{
 "cells": [
  {
   "cell_type": "code",
   "execution_count": 3,
   "metadata": {},
   "outputs": [],
   "source": [
    "# Import required libraries\n",
    "import numpy as np\n",
    "import pandas as pd\n",
    "\n",
    "import matplotlib.pyplot as plt\n",
    "%matplotlib inline\n",
    "plt.style.use('default')\n",
    "\n",
    "from warnings import filterwarnings\n",
    "filterwarnings(\"ignore\")\n",
    "\n",
    "from io import StringIO\n",
    "from requests import\\\n",
    "    get as reqGet,\\\n",
    "    post as reqPost\n",
    "from bs4 import BeautifulSoup\n",
    "\n",
    "from math import sqrt\n",
    "from statsmodels.formula import\\\n",
    "    api as sm\n",
    "from scipy.stats import\\\n",
    "    ttest_ind as t_Test,\\\n",
    "    f_oneway as f_Test\n",
    "from sklearn.metrics import\\\n",
    "    mean_squared_error as MSE,\\\n",
    "    mean_absolute_error as MAE,\\\n",
    "    r2_score as R2"
   ]
  },
  {
   "cell_type": "code",
   "execution_count": 4,
   "metadata": {},
   "outputs": [],
   "source": [
    "googleSearchUrl = \"https://www.google.com/search?q=prayer+times+in+kuala+lumpur\"\n",
    "googleSerachPage = reqGet(googleSearchUrl).text"
   ]
  },
  {
   "cell_type": "code",
   "execution_count": 8,
   "metadata": {},
   "outputs": [
    {
     "data": {
      "text/plain": [
       "<table class=\"LnMnt\"><tbody><tr><td class=\"sjsZvd IxZjcf OE1use\"><div class=\"hfgVwf\"><div class=\"BNeawe s3v9rd AP7Wnd\"><span class=\"rQMQod\">Fajr</span></div></div></td><td class=\"sjsZvd IxZjcf s5aIid HlHBvc\"><div class=\"hfgVwf\"><div class=\"BNeawe DwrKqd s3v9rd AP7Wnd\"><span class=\"r0bn4c rQMQod\">6:01 am</span></div></div></td></tr><tr><td class=\"sjsZvd IxZjcf OE1use\"><div class=\"hfgVwf\"><div class=\"BNeawe s3v9rd AP7Wnd\"><span class=\"rQMQod\">Sunrise</span></div></div></td><td class=\"sjsZvd IxZjcf s5aIid HlHBvc\"><div class=\"hfgVwf\"><div class=\"BNeawe DwrKqd s3v9rd AP7Wnd\"><span class=\"r0bn4c rQMQod\">7:12 am</span></div></div></td></tr><tr><td class=\"sjsZvd IxZjcf OE1use\"><div class=\"hfgVwf\"><div class=\"BNeawe s3v9rd AP7Wnd\"><span class=\"rQMQod\">Dhuhr</span></div></div></td><td class=\"sjsZvd IxZjcf s5aIid HlHBvc\"><div class=\"hfgVwf\"><div class=\"BNeawe DwrKqd s3v9rd AP7Wnd\"><span class=\"r0bn4c rQMQod\">1:21 pm</span></div></div></td></tr><tr><td class=\"sjsZvd IxZjcf OE1use\"><div class=\"hfgVwf\"><div class=\"BNeawe s3v9rd AP7Wnd\"><span class=\"rQMQod\">Asr</span></div></div></td><td class=\"sjsZvd IxZjcf s5aIid HlHBvc\"><div class=\"hfgVwf\"><div class=\"BNeawe DwrKqd s3v9rd AP7Wnd\"><span class=\"r0bn4c rQMQod\">4:44 pm</span></div></div></td></tr><tr><td class=\"sjsZvd IxZjcf OE1use\"><div class=\"hfgVwf\"><div class=\"BNeawe s3v9rd AP7Wnd\"><span class=\"rQMQod\">Maghrib</span></div></div></td><td class=\"sjsZvd IxZjcf s5aIid HlHBvc\"><div class=\"hfgVwf\"><div class=\"BNeawe DwrKqd s3v9rd AP7Wnd\"><span class=\"r0bn4c rQMQod\">7:29 pm</span></div></div></td></tr><tr><td class=\"sjsZvd IxZjcf OE1use\"><div class=\"hfgVwf\"><div class=\"BNeawe s3v9rd AP7Wnd\"><span class=\"rQMQod\">Isha</span></div></div></td><td class=\"sjsZvd IxZjcf s5aIid HlHBvc\"><div class=\"hfgVwf\"><div class=\"BNeawe DwrKqd s3v9rd AP7Wnd\"><span class=\"r0bn4c rQMQod\">8:42 pm</span></div></div></td></tr><tr class=\"hwc\"><td class=\"sjsZvd OE1use\"><div class=\"hfgVwf\"><div class=\"BNeawe s3v9rd AP7Wnd\"><span class=\"r0bn4c rQMQod\">Based on: Jabatan Kemajuan Islam Malaysia · </span><span class=\"BNeawe\"><a data-ved=\"2ahUKEwjdmKjVl8aHAxUHTGwGHc93Ct8QkM0DegQIDBAB\" href=\"/url?q=https://google.com/search%3Fsca_esv%3D5279b2b7698efd93%26sca_upv%3D1%26ie%3DUTF-8%26q%3Dprayer%2Btimes%2Bin%2Bkuala%2Blumpur%26stick%3DH4sIAAAAAAAAAONgecQYzS3w8sc9YamgSWtOXmP04eIOKEqsTC0KycxNLRZS5uLzLM5JzM1MhogWCwlK8XPx6qfrGxommRlVJKebVwpJcHH45CcnlmTm5wnxSHFxcejn6huYWKYY8ixiFYFqVygA61coARkLAF9H_E13AAAA%26zx%3D1722047720960%26pt_stg%3D1&amp;sa=U&amp;ved=2ahUKEwjdmKjVl8aHAxUHTGwGHc93Ct8QkM0DegQIDBAB&amp;usg=AOvVaw0mj43a_nqFWxx-jy7VPxek\"><span class=\"tAd8D AP7Wnd\"><span class=\"rQMQod Xb5VRe\">Change</span></span></a></span><span class=\"r0bn4c rQMQod\">\n",
       "GMT+08:00 · Times may vary</span></div></div></td><td class=\"sjsZvd s5aIid HlHBvc\"></td></tr></tbody></table>"
      ]
     },
     "execution_count": 8,
     "metadata": {},
     "output_type": "execute_result"
    }
   ],
   "source": [
    "soup = BeautifulSoup(googleSerachPage)\n",
    "soup.find(\"table\")"
   ]
  }
 ],
 "metadata": {
  "kernelspec": {
   "display_name": "Python 3",
   "language": "python",
   "name": "python3"
  },
  "language_info": {
   "codemirror_mode": {
    "name": "ipython",
    "version": 3
   },
   "file_extension": ".py",
   "mimetype": "text/x-python",
   "name": "python",
   "nbconvert_exporter": "python",
   "pygments_lexer": "ipython3",
   "version": "3.12.2"
  }
 },
 "nbformat": 4,
 "nbformat_minor": 2
}
