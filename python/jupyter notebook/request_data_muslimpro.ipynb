{
 "cells": [
  {
   "cell_type": "code",
   "execution_count": 1,
   "metadata": {},
   "outputs": [],
   "source": [
    "from bs4 import BeautifulSoup\n",
    "import requests\n",
    "import pandas as pd\n",
    "from io import StringIO"
   ]
  },
  {
   "cell_type": "code",
   "execution_count": 2,
   "metadata": {},
   "outputs": [],
   "source": [
    "MuslimProPlainText = (requests.get(\"https://www.muslimpro.com/en/find?coordinates=3.1499222%2C101.6944619&country_code=MY&country_name=Malaysia&city_name=Kuala+Lumpur&date=2024-01&convention=precalc\")).text"
   ]
  },
  {
   "cell_type": "code",
   "execution_count": 3,
   "metadata": {},
   "outputs": [],
   "source": [
    "MuslimProTimeTable = (BeautifulSoup(MuslimProPlainText)).find(\"table\", { \"class\": \"prayer-times\" })"
   ]
  },
  {
   "cell_type": "code",
   "execution_count": 4,
   "metadata": {},
   "outputs": [],
   "source": [
    "MuslimProDF = pd.read_html(StringIO(str(MuslimProTimeTable)))"
   ]
  },
  {
   "cell_type": "code",
   "execution_count": 5,
   "metadata": {},
   "outputs": [
    {
     "data": {
      "text/plain": [
       "[    Unnamed: 0   Fajr Sunrise  Dhuhr    Asr Maghrib Isha'a\n",
       " 0    Mon 1 Jan  06:06   07:17  13:19  16:42   19:16  20:31\n",
       " 1    Tue 2 Jan  06:07   07:18  13:20  16:42   19:17  20:31\n",
       " 2    Wed 3 Jan  06:07   07:18  13:20  16:43   19:17  20:32\n",
       " 3    Thu 4 Jan  06:08   07:19  13:21  16:43   19:18  20:32\n",
       " 4    Fri 5 Jan  06:08   07:19  13:21  16:44   19:18  20:33\n",
       " 5    Sat 6 Jan  06:09   07:20  13:22  16:44   19:19  20:33\n",
       " 6    Sun 7 Jan  06:09   07:20  13:22  16:44   19:19  20:34\n",
       " 7    Mon 8 Jan  06:10   07:20  13:22  16:45   19:20  20:34\n",
       " 8    Tue 9 Jan  06:10   07:21  13:23  16:45   19:20  20:34\n",
       " 9   Wed 10 Jan  06:10   07:21  13:23  16:46   19:21  20:35\n",
       " 10  Thu 11 Jan  06:11   07:22  13:24  16:46   19:21  20:35\n",
       " 11  Fri 12 Jan  06:11   07:22  13:24  16:46   19:21  20:35\n",
       " 12  Sat 13 Jan  06:12   07:22  13:24  16:47   19:22  20:36\n",
       " 13  Sun 14 Jan  06:12   07:23  13:25  16:47   19:22  20:36\n",
       " 14  Mon 15 Jan  06:13   07:23  13:25  16:47   19:23  20:36\n",
       " 15  Tue 16 Jan  06:13   07:23  13:26  16:48   19:23  20:37\n",
       " 16  Wed 17 Jan  06:13   07:24  13:26  16:48   19:23  20:37\n",
       " 17  Thu 18 Jan  06:14   07:24  13:26  16:48   19:24  20:37\n",
       " 18  Fri 19 Jan  06:14   07:24  13:26  16:49   19:24  20:37\n",
       " 19  Sat 20 Jan  06:14   07:24  13:27  16:49   19:24  20:38\n",
       " 20  Sun 21 Jan  06:15   07:25  13:27  16:49   19:25  20:38\n",
       " 21  Mon 22 Jan  06:15   07:25  13:27  16:49   19:25  20:38\n",
       " 22  Tue 23 Jan  06:15   07:25  13:28  16:50   19:25  20:38\n",
       " 23  Wed 24 Jan  06:16   07:25  13:28  16:50   19:26  20:39\n",
       " 24  Thu 25 Jan  06:16   07:25  13:28  16:50   19:26  20:39\n",
       " 25  Fri 26 Jan  06:16   07:26  13:28  16:50   19:26  20:39\n",
       " 26  Sat 27 Jan  06:17   07:26  13:29  16:50   19:27  20:39\n",
       " 27  Sun 28 Jan  06:17   07:26  13:29  16:50   19:27  20:39\n",
       " 28  Mon 29 Jan  06:17   07:26  13:29  16:51   19:27  20:39\n",
       " 29  Tue 30 Jan  06:17   07:26  13:29  16:51   19:27  20:39\n",
       " 30  Wed 31 Jan  06:17   07:26  13:29  16:51   19:27  20:40]"
      ]
     },
     "execution_count": 5,
     "metadata": {},
     "output_type": "execute_result"
    }
   ],
   "source": [
    "MuslimProDF"
   ]
  }
 ],
 "metadata": {
  "kernelspec": {
   "display_name": "Python 3",
   "language": "python",
   "name": "python3"
  },
  "language_info": {
   "codemirror_mode": {
    "name": "ipython",
    "version": 3
   },
   "file_extension": ".py",
   "mimetype": "text/x-python",
   "name": "python",
   "nbconvert_exporter": "python",
   "pygments_lexer": "ipython3",
   "version": "3.12.2"
  }
 },
 "nbformat": 4,
 "nbformat_minor": 2
}
