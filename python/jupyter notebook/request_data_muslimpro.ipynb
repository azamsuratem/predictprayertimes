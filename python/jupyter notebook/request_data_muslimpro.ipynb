{
 "cells": [
  {
   "cell_type": "code",
   "execution_count": 1,
   "metadata": {},
   "outputs": [],
   "source": [
    "from bs4 import BeautifulSoup\n",
    "import requests\n",
    "import pandas as pd\n",
    "from io import StringIO"
   ]
  },
  {
   "cell_type": "code",
   "execution_count": 2,
   "metadata": {},
   "outputs": [],
   "source": [
    "urlStr = \"https://www.muslimpro.com/en/find\"\n",
    "urlParams = {\n",
    "    # required\n",
    "    \"country_code\": \"MY\",\n",
    "    \"country_name\": \"Malaysia\",\n",
    "    \"city_name\": \"Kuala Lumpur\",\n",
    "    \"coordinates\": \"3.1499222,101.6944619\",\n",
    "    # optional\n",
    "    \"convention\": \"precalc\",\n",
    "    \"date\": \"2024-01\"\n",
    "}"
   ]
  },
  {
   "cell_type": "code",
   "execution_count": 3,
   "metadata": {},
   "outputs": [],
   "source": [
    "def sanitizeParamValues(value):\n",
    "    return value.replace(\" \", \"%20\").replace(\",\", \"%2C\")\n",
    "\n",
    "def generateUrlReq(strUrl, dictParams):\n",
    "    n = len(dictParams)\n",
    "    strParams = \"\"\n",
    "\n",
    "    listDictParams = [param for idx, param in enumerate(dictParams.items())]\n",
    "    for i in range(n):\n",
    "        if (i == 0):\n",
    "            strParams += (\"?\" + listDictParams[0][0] + \"=\" + sanitizeParamValues(listDictParams[0][1]))\n",
    "        else:\n",
    "            strParams += (\"&\" + listDictParams[i][0] + \"=\" + sanitizeParamValues(listDictParams[i][1]))\n",
    "    \n",
    "    if (n > 0):\n",
    "        return strUrl + strParams\n",
    "    else:\n",
    "        return strUrl\n",
    "\n",
    "def extractTimesTable(sitePlainText):\n",
    "    soup = BeautifulSoup(sitePlainText)\n",
    "    return soup.find(\"table\", { \"class\": \"prayer-times\" })\n",
    "\n",
    "def parseStringIO(literalHtml):\n",
    "    return StringIO(str(literalHtml))"
   ]
  },
  {
   "cell_type": "code",
   "execution_count": 4,
   "metadata": {},
   "outputs": [],
   "source": [
    "MuslimProUrlReq = generateUrlReq(urlStr, urlParams)"
   ]
  },
  {
   "cell_type": "code",
   "execution_count": 5,
   "metadata": {},
   "outputs": [],
   "source": [
    "MuslimProPlainText = requests.get(MuslimProUrlReq).text"
   ]
  },
  {
   "cell_type": "code",
   "execution_count": 6,
   "metadata": {},
   "outputs": [],
   "source": [
    "MuslimProTimeTable = extractTimesTable(MuslimProPlainText)"
   ]
  },
  {
   "cell_type": "code",
   "execution_count": 7,
   "metadata": {},
   "outputs": [],
   "source": [
    "MuslimProDF = pd.read_html(parseStringIO(MuslimProTimeTable))"
   ]
  },
  {
   "cell_type": "code",
   "execution_count": 8,
   "metadata": {},
   "outputs": [
    {
     "data": {
      "text/plain": [
       "[    Unnamed: 0   Fajr Sunrise  Dhuhr    Asr Maghrib Isha'a\n",
       " 0    Mon 1 Jan  06:06   07:17  13:19  16:42   19:16  20:31\n",
       " 1    Tue 2 Jan  06:07   07:18  13:20  16:42   19:17  20:31\n",
       " 2    Wed 3 Jan  06:07   07:18  13:20  16:43   19:17  20:32\n",
       " 3    Thu 4 Jan  06:08   07:19  13:21  16:43   19:18  20:32\n",
       " 4    Fri 5 Jan  06:08   07:19  13:21  16:44   19:18  20:33\n",
       " 5    Sat 6 Jan  06:09   07:20  13:22  16:44   19:19  20:33\n",
       " 6    Sun 7 Jan  06:09   07:20  13:22  16:44   19:19  20:34\n",
       " 7    Mon 8 Jan  06:10   07:20  13:22  16:45   19:20  20:34\n",
       " 8    Tue 9 Jan  06:10   07:21  13:23  16:45   19:20  20:34\n",
       " 9   Wed 10 Jan  06:10   07:21  13:23  16:46   19:21  20:35\n",
       " 10  Thu 11 Jan  06:11   07:22  13:24  16:46   19:21  20:35\n",
       " 11  Fri 12 Jan  06:11   07:22  13:24  16:46   19:21  20:35\n",
       " 12  Sat 13 Jan  06:12   07:22  13:24  16:47   19:22  20:36\n",
       " 13  Sun 14 Jan  06:12   07:23  13:25  16:47   19:22  20:36\n",
       " 14  Mon 15 Jan  06:13   07:23  13:25  16:47   19:23  20:36\n",
       " 15  Tue 16 Jan  06:13   07:23  13:26  16:48   19:23  20:37\n",
       " 16  Wed 17 Jan  06:13   07:24  13:26  16:48   19:23  20:37\n",
       " 17  Thu 18 Jan  06:14   07:24  13:26  16:48   19:24  20:37\n",
       " 18  Fri 19 Jan  06:14   07:24  13:26  16:49   19:24  20:37\n",
       " 19  Sat 20 Jan  06:14   07:24  13:27  16:49   19:24  20:38\n",
       " 20  Sun 21 Jan  06:15   07:25  13:27  16:49   19:25  20:38\n",
       " 21  Mon 22 Jan  06:15   07:25  13:27  16:49   19:25  20:38\n",
       " 22  Tue 23 Jan  06:15   07:25  13:28  16:50   19:25  20:38\n",
       " 23  Wed 24 Jan  06:16   07:25  13:28  16:50   19:26  20:39\n",
       " 24  Thu 25 Jan  06:16   07:25  13:28  16:50   19:26  20:39\n",
       " 25  Fri 26 Jan  06:16   07:26  13:28  16:50   19:26  20:39\n",
       " 26  Sat 27 Jan  06:17   07:26  13:29  16:50   19:27  20:39\n",
       " 27  Sun 28 Jan  06:17   07:26  13:29  16:50   19:27  20:39\n",
       " 28  Mon 29 Jan  06:17   07:26  13:29  16:51   19:27  20:39\n",
       " 29  Tue 30 Jan  06:17   07:26  13:29  16:51   19:27  20:39\n",
       " 30  Wed 31 Jan  06:17   07:26  13:29  16:51   19:27  20:40]"
      ]
     },
     "execution_count": 8,
     "metadata": {},
     "output_type": "execute_result"
    }
   ],
   "source": [
    "MuslimProDF"
   ]
  }
 ],
 "metadata": {
  "kernelspec": {
   "display_name": "Python 3",
   "language": "python",
   "name": "python3"
  },
  "language_info": {
   "codemirror_mode": {
    "name": "ipython",
    "version": 3
   },
   "file_extension": ".py",
   "mimetype": "text/x-python",
   "name": "python",
   "nbconvert_exporter": "python",
   "pygments_lexer": "ipython3",
   "version": "3.12.2"
  }
 },
 "nbformat": 4,
 "nbformat_minor": 2
}
