{
 "cells": [
  {
   "cell_type": "code",
   "execution_count": 1,
   "metadata": {},
   "outputs": [],
   "source": [
    "from bs4 import BeautifulSoup\n",
    "import requests\n",
    "import pandas as pd\n",
    "from io import StringIO"
   ]
  },
  {
   "cell_type": "code",
   "execution_count": 2,
   "metadata": {},
   "outputs": [],
   "source": [
    "IslamicFinderPlainText = (requests.get(\"https://www.islamicfinder.org/prayer-times/\")).text"
   ]
  },
  {
   "cell_type": "code",
   "execution_count": 3,
   "metadata": {},
   "outputs": [],
   "source": [
    "IslamicFinderTimeTable = (BeautifulSoup(IslamicFinderPlainText)).find(\"table\", { \"id\": \"monthly-prayers\" })"
   ]
  },
  {
   "cell_type": "code",
   "execution_count": 4,
   "metadata": {},
   "outputs": [],
   "source": [
    "IslamicFinderDF = pd.read_html(StringIO(str(IslamicFinderTimeTable)))"
   ]
  },
  {
   "cell_type": "code",
   "execution_count": 5,
   "metadata": {},
   "outputs": [
    {
     "data": {
      "text/plain": [
       "[     March   Shaban  Day      Fajr   Sunrise     Dhuhr       Asr   Maghrib  \\\n",
       " 0   01 Fri       19  Fri  06:15 AM  07:24 AM  01:27 PM  04:42 PM  07:28 PM   \n",
       " 1   02 Sat       20  Sat  06:15 AM  07:24 AM  01:26 PM  04:41 PM  07:28 PM   \n",
       " 2   03 Sun       21  Sun  06:15 AM  07:23 AM  01:26 PM  04:41 PM  07:28 PM   \n",
       " 3   04 Mon       22  Mon  06:15 AM  07:23 AM  01:26 PM  04:40 PM  07:28 PM   \n",
       " 4   05 Tue       23  Tue  06:15 AM  07:23 AM  01:26 PM  04:40 PM  07:28 PM   \n",
       " 5   06 Wed       24  Wed  06:14 AM  07:22 AM  01:25 PM  04:39 PM  07:28 PM   \n",
       " 6   07 Thu       25  Thu  06:14 AM  07:22 AM  01:25 PM  04:38 PM  07:27 PM   \n",
       " 7   08 Fri       26  Fri  06:14 AM  07:22 AM  01:25 PM  04:38 PM  07:27 PM   \n",
       " 8   09 Sat       27  Sat  06:13 AM  07:22 AM  01:25 PM  04:37 PM  07:27 PM   \n",
       " 9   10 Sun       28  Sun  06:13 AM  07:21 AM  01:24 PM  04:36 PM  07:27 PM   \n",
       " 10  11 Mon       29  Mon  06:13 AM  07:21 AM  01:24 PM  04:35 PM  07:27 PM   \n",
       " 11   March  Ramadan  NaN       NaN       NaN       NaN       NaN       NaN   \n",
       " 12  12 Tue        1  Tue  06:13 AM  07:21 AM  01:24 PM  04:35 PM  07:27 PM   \n",
       " 13  13 Wed        2  Wed  06:12 AM  07:20 AM  01:24 PM  04:34 PM  07:26 PM   \n",
       " 14  14 Thu        3  Thu  06:12 AM  07:20 AM  01:23 PM  04:33 PM  07:26 PM   \n",
       " 15  15 Fri        4  Fri  06:12 AM  07:19 AM  01:23 PM  04:32 PM  07:26 PM   \n",
       " 16  16 Sat        5  Sat  06:11 AM  07:19 AM  01:23 PM  04:31 PM  07:26 PM   \n",
       " 17  17 Sun        6  Sun  06:11 AM  07:19 AM  01:23 PM  04:30 PM  07:26 PM   \n",
       " 18  18 Mon        7  Mon  06:10 AM  07:18 AM  01:22 PM  04:30 PM  07:25 PM   \n",
       " 19  19 Tue        8  Tue  06:10 AM  07:18 AM  01:22 PM  04:29 PM  07:25 PM   \n",
       " 20  20 Wed        9  Wed  06:10 AM  07:18 AM  01:22 PM  04:28 PM  07:25 PM   \n",
       " 21  21 Thu       10  Thu  06:09 AM  07:17 AM  01:21 PM  04:27 PM  07:25 PM   \n",
       " 22  22 Fri       11  Fri  06:09 AM  07:17 AM  01:21 PM  04:26 PM  07:25 PM   \n",
       " 23  23 Sat       12  Sat  06:09 AM  07:16 AM  01:21 PM  04:25 PM  07:24 PM   \n",
       " 24  24 Sun       13  Sun  06:08 AM  07:16 AM  01:21 PM  04:24 PM  07:24 PM   \n",
       " 25  25 Mon       14  Mon  06:08 AM  07:16 AM  01:20 PM  04:23 PM  07:24 PM   \n",
       " 26  26 Tue       15  Tue  06:07 AM  07:15 AM  01:20 PM  04:22 PM  07:24 PM   \n",
       " 27  27 Wed       16  Wed  06:07 AM  07:15 AM  01:20 PM  04:21 PM  07:23 PM   \n",
       " 28  28 Thu       17  Thu  06:06 AM  07:15 AM  01:19 PM  04:20 PM  07:23 PM   \n",
       " 29  29 Fri       18  Fri  06:06 AM  07:14 AM  01:19 PM  04:20 PM  07:23 PM   \n",
       " 30  30 Sat       19  Sat  06:06 AM  07:14 AM  01:19 PM  04:20 PM  07:23 PM   \n",
       " 31  31 Sun       20  Sun  06:05 AM  07:13 AM  01:18 PM  04:21 PM  07:23 PM   \n",
       " \n",
       "         Isha     Qiyam  \n",
       " 0   08:38 PM  02:38 AM  \n",
       " 1   08:37 PM  02:38 AM  \n",
       " 2   08:37 PM  02:38 AM  \n",
       " 3   08:37 PM  02:38 AM  \n",
       " 4   08:37 PM  02:38 AM  \n",
       " 5   08:37 PM  02:38 AM  \n",
       " 6   08:36 PM  02:37 AM  \n",
       " 7   08:36 PM  02:37 AM  \n",
       " 8   08:36 PM  02:37 AM  \n",
       " 9   08:36 PM  02:37 AM  \n",
       " 10  08:36 PM  02:37 AM  \n",
       " 11       NaN       NaN  \n",
       " 12  08:35 PM  02:37 AM  \n",
       " 13  08:35 PM  02:36 AM  \n",
       " 14  08:35 PM  02:36 AM  \n",
       " 15  08:35 PM  02:36 AM  \n",
       " 16  08:35 PM  02:36 AM  \n",
       " 17  08:34 PM  02:36 AM  \n",
       " 18  08:34 PM  02:35 AM  \n",
       " 19  08:34 PM  02:35 AM  \n",
       " 20  08:34 PM  02:35 AM  \n",
       " 21  08:34 PM  02:33 AM  \n",
       " 22  08:33 PM  02:33 AM  \n",
       " 23  08:33 PM  02:34 AM  \n",
       " 24  08:33 PM  02:32 AM  \n",
       " 25  08:33 PM  02:32 AM  \n",
       " 26  08:33 PM  02:32 AM  \n",
       " 27  08:32 PM  02:31 AM  \n",
       " 28  08:32 PM  02:31 AM  \n",
       " 29  08:32 PM  02:31 AM  \n",
       " 30  08:32 PM  02:31 AM  \n",
       " 31  08:32 PM  02:31 AM  ]"
      ]
     },
     "execution_count": 5,
     "metadata": {},
     "output_type": "execute_result"
    }
   ],
   "source": [
    "IslamicFinderDF"
   ]
  }
 ],
 "metadata": {
  "kernelspec": {
   "display_name": "Python 3",
   "language": "python",
   "name": "python3"
  },
  "language_info": {
   "codemirror_mode": {
    "name": "ipython",
    "version": 3
   },
   "file_extension": ".py",
   "mimetype": "text/x-python",
   "name": "python",
   "nbconvert_exporter": "python",
   "pygments_lexer": "ipython3",
   "version": "3.12.2"
  }
 },
 "nbformat": 4,
 "nbformat_minor": 2
}
